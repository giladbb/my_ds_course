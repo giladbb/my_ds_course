{
 "cells": [
  {
   "cell_type": "markdown",
   "metadata": {},
   "source": [
    "Exercise 2\n",
    "Assign your first name and your last name to the variables first_name and last_name, respectively.\n",
    "How many letters does your full name have?\n",
    "Create your full name by concatenating first_name and first_name with a space in the middle, and assign the result to a variable called full_name.\n",
    "Use the string method replace() to change all the vowels in your full name from lower case to upper case. (Vowels are the letters 'a', 'e', 'i', 'o' & 'u')\n",
    "\n",
    "Note that you are not allowed to use the for syntax at the moment."
   ]
  },
  {
   "cell_type": "code",
   "execution_count": 22,
   "metadata": {},
   "outputs": [
    {
     "name": "stdout",
     "output_type": "stream",
     "text": [
      "What is your first name? gilad\n",
      "What is your last name? benbassat\n",
      "Your full name has 14 letters\n",
      "gilad benbassat\n",
      "gIlAd bEnbAssAt\n"
     ]
    }
   ],
   "source": [
    "first_name = input('What is your first name? ')\n",
    "last_name = input('What is your last name? ')\n",
    "\n",
    "print('Your full name has ' + str(len(first_name+last_name)) + ' letters')\n",
    "\n",
    "full_name = first_name + ' ' + last_name\n",
    "print(full_name)\n",
    "converted_full_name = full_name\n",
    "VOWELS = ['a','e','i','o','u']\n",
    "for V in VOWELS:\n",
    "    converted_full_name = converted_full_name.replace(V,V.upper())\n",
    "        \n",
    "print(converted_full_name)"
   ]
  },
  {
   "cell_type": "code",
   "execution_count": 23,
   "metadata": {},
   "outputs": [
    {
     "name": "stdout",
     "output_type": "stream",
     "text": [
      "What is your first name? gilad\n",
      "What is your last name? benbassat\n",
      "Your full name has 14 letters\n",
      "gilad benbassat\n",
      "gIlAd bEnbAssAt\n"
     ]
    }
   ],
   "source": [
    "first_name = input('What is your first name? ')\n",
    "last_name = input('What is your last name? ')\n",
    "\n",
    "print('Your full name has ' + str(len(first_name+last_name)) + ' letters')\n",
    "\n",
    "full_name = first_name + ' ' + last_name\n",
    "print(full_name)\n",
    "converted_full_name = full_name\n",
    "VOWELS = ['a','e','i','o','u']\n",
    "converted_full_name = converted_full_name.replace('a','A')\n",
    "converted_full_name = converted_full_name.replace('e','E')\n",
    "converted_full_name = converted_full_name.replace('i','I')\n",
    "converted_full_name = converted_full_name.replace('o','O')\n",
    "converted_full_name = converted_full_name.replace('u','U')\n",
    "        \n",
    "print(converted_full_name)"
   ]
  },
  {
   "cell_type": "code",
   "execution_count": null,
   "metadata": {
    "collapsed": true
   },
   "outputs": [],
   "source": []
  }
 ],
 "metadata": {
  "kernelspec": {
   "display_name": "Python 3",
   "language": "python",
   "name": "python3"
  },
  "language_info": {
   "codemirror_mode": {
    "name": "ipython",
    "version": 3
   },
   "file_extension": ".py",
   "mimetype": "text/x-python",
   "name": "python",
   "nbconvert_exporter": "python",
   "pygments_lexer": "ipython3",
   "version": "3.6.3"
  }
 },
 "nbformat": 4,
 "nbformat_minor": 2
}
