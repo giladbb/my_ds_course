{
 "cells": [
  {
   "cell_type": "markdown",
   "metadata": {},
   "source": [
    "# import necessary module\n",
    "import random\n",
    "\n",
    "# The computer \"chooses\" a number\n",
    "my_number = random.randint(1, 100)\n",
    "\n",
    "# The program asks you to play\n",
    "print(\"I have chosen a number between 1 and 100.\")\n",
    "print(\"Please try to guess it...\")\n",
    "\n",
    "# The program reads your guess and stores it\n",
    "user_guess = int(input())\n",
    "\n",
    "# The game is on...\n",
    "while my_number != user_guess:\n",
    "    print(\"Wrong! \", end=' ')\n",
    "    if user_guess > my_number:\n",
    "        print(\"You are too high, please try again...\")\n",
    "        user_guess = int(input())\n",
    "    else:\n",
    "        print(\"You are too low, please try again...\")\n",
    "        user_guess = int(input())\n",
    "\n",
    "print(\"Finally :-)\\nGAME OVER\")"
   ]
  },
  {
   "cell_type": "code",
   "execution_count": 9,
   "metadata": {},
   "outputs": [
    {
     "name": "stdout",
     "output_type": "stream",
     "text": [
      "Try to guess the number I chose between 1 and 100\n",
      "50\n",
      "Too small. Try again...\n",
      "80\n",
      "Too big. Try again..\n",
      "70\n",
      "Too big. Try again..\n",
      "60\n",
      "Too small. Try again...\n",
      "65\n",
      "Too small. Try again...\n",
      "67\n",
      "Too small. Try again...\n",
      "69\n",
      "Very Good\n",
      "Game Over\n"
     ]
    }
   ],
   "source": [
    "'''Import the random number module'''\n",
    "import random\n",
    "'''generate random number between 1 and 100'''\n",
    "my_num = random.randint(1,100)\n",
    "'''Ask user to guess the random number and assign it to a variable'''\n",
    "print(\"Try to guess the number I chose between 1 and 100\")\n",
    "user_num = int(input())\n",
    "\n",
    "while user_num != my_num:\n",
    "    \n",
    "# Use Ternary Operator (or conditional expression) \n",
    "# [on_true] if [expression] else [on_false]\n",
    "    \n",
    "    print(\"Too big. Try again..\") if my_num < user_num else print(\"Too small. Try again...\")\n",
    "    \n",
    "    user_num = int(input())\n",
    "    \n",
    "print(\"Very Good\\nGame Over\")\n"
   ]
  },
  {
   "cell_type": "code",
   "execution_count": null,
   "metadata": {
    "collapsed": true
   },
   "outputs": [],
   "source": []
  }
 ],
 "metadata": {
  "kernelspec": {
   "display_name": "Python 3",
   "language": "python",
   "name": "python3"
  },
  "language_info": {
   "codemirror_mode": {
    "name": "ipython",
    "version": 3
   },
   "file_extension": ".py",
   "mimetype": "text/x-python",
   "name": "python",
   "nbconvert_exporter": "python",
   "pygments_lexer": "ipython3",
   "version": "3.6.3"
  }
 },
 "nbformat": 4,
 "nbformat_minor": 2
}
