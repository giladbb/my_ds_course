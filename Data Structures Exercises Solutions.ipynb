{
 "cells": [
  {
   "cell_type": "markdown",
   "metadata": {},
   "source": [
    "# Exercise 1\n",
    "Create two lists of strings:\n",
    "boys with 3 names of boys\n",
    "girls with 3 names of girls.\n",
    "Do the following with list methods:\n",
    "Use append() to add boys a 4th name at the end.\n",
    "Use insert() to add girls a 4th name at the beginning.\n",
    "Use pop() to remove from girls the last name and assign it to a variable called bride.\n",
    "Use pop() to remove from boys the first name and assign it to a variable called groom.\n",
    "Use remove() to remove the last name from boys.\n",
    "Can you do it without knowing the actual name of the last boy.\n",
    "Create a new list called names, which is the concatenation of boys and girls.\n",
    "Why will extend() not do the job?"
   ]
  },
  {
   "cell_type": "code",
   "execution_count": 31,
   "metadata": {},
   "outputs": [
    {
     "name": "stdout",
     "output_type": "stream",
     "text": [
      "BOYS =  ['Gad', 'Dan', 'Ran']\n",
      "GIRLS =  ['Ruth', 'Tal', 'Mika']\n",
      "Add 4th name to BOYS list ['Gad', 'Dan', 'Ran', 'Jerry']\n",
      "Add name to beginning of GIRLS list ['Jane', 'Ruth', 'Tal', 'Mika']\n",
      "Assign to bride variable the last name of GIRLS list...\n",
      " bride =  Mika\n",
      "now GIRLS =  ['Jane', 'Ruth', 'Tal']\n",
      "Assign to groom variable the first BOYS name while removing the name from the BOYS list\n",
      " groom =  Gad\n",
      "now BOYS =  ['Dan', 'Ran', 'Jerry']\n",
      "last name removed from BOYS =  ['Dan', 'Ran']\n",
      "new list concatenating BOYS + GIRLS\n",
      " names =  ['Dan', 'Ran', 'Jane', 'Ruth', 'Tal']\n"
     ]
    }
   ],
   "source": [
    "BOYS = ['Gad', 'Dan','Ran']\n",
    "GIRLS = ['Ruth','Tal','Mika']\n",
    "print('BOYS = ', BOYS)\n",
    "print('GIRLS = ',GIRLS)\n",
    "\n",
    "BOYS.append('Jerry')\n",
    "print ('Add 4th name to BOYS list', BOYS)\n",
    "\n",
    "GIRLS.insert(0,'Jane')\n",
    "print('Add name to beginning of GIRLS list', GIRLS)\n",
    "\n",
    "bride = GIRLS.pop()\n",
    "print('Assign to bride variable the last name of GIRLS list...\\n',\n",
    "      'bride = ',bride)\n",
    "print('now GIRLS = ',GIRLS)\n",
    "\n",
    "groom = BOYS.pop(0)\n",
    "print('Assign to groom variable the first BOYS name while removing the name from the BOYS list\\n','groom = ',groom)\n",
    "print ('now BOYS = ', BOYS)\n",
    "\n",
    "BOYS.remove(BOYS[-1])\n",
    "print('last name removed from BOYS = ', BOYS)\n",
    "\n",
    "names=BOYS + GIRLS\n",
    "print('new list concatenating BOYS + GIRLS\\n', 'names = ', names)\n",
    "\n",
    "names_using_extend = "
   ]
  },
  {
   "cell_type": "markdown",
   "metadata": {},
   "source": [
    "\n"
   ]
  },
  {
   "cell_type": "markdown",
   "metadata": {},
   "source": [
    "# Exercise 2\n",
    "Create three variables of type list representing three guys. Each list should be of the form [name (string), age (int), married (Boolean)]. Give the lists proper variable names.\n",
    "Modify the age of one of the guys. Note that lists are mutable, so you can do that using direct assignment and there is no need to recreate the entire list.\n",
    "Create a new list called guys, whose elements are the three lists you’ve created. Note that you've created a list of lists.\n",
    "Create a list for another \"guy\" and append it to guys.\n",
    "Modify the age of one of the guys in guys. Again - remember that guys is mutable, so you can \"access\" its elements and modify them directly.\n",
    "Remove one of the elements of guys with two different methods:\n",
    "using pop()\n",
    "using remove()"
   ]
  },
  {
   "cell_type": "code",
   "execution_count": 20,
   "metadata": {},
   "outputs": [
    {
     "name": "stdout",
     "output_type": "stream",
     "text": [
      "# create 3 lists, each representing a guy\n",
      " # with the following data on each list\n",
      " # guy# = [name(str), age(int), married(Boolean)]\n",
      "guy_1 =  ['Gil', 28, False] \n",
      " guy_2 =  ['Steve', 39, True] \n",
      " guy_3 =  ['Clark', 22, False]\n",
      "# Modify the age of one of the guys\n",
      "guy_1 =  ['Gil', 28, False] \n",
      " guy_2 =  ['Steve', 31, True] \n",
      " guy_3 =  ['Clark', 22, False]\n",
      "# create a list called guys with the three lists as its elements\n",
      "guys =  [['Gil', 28, False], ['Steve', 31, True], ['Clark', 22, False]]\n",
      "# Create a list for another \"guy\" and append it to guys.\n",
      "guy_1 =  ['Gil', 28, False] \n",
      " guy_2 =  ['Steve', 31, True] \n",
      " guy_3 =  ['Clark', 22, False] \n",
      " guy_4 =  ['Lee', 33, False]\n",
      "guys =  [['Gil', 28, False], ['Steve', 31, True], ['Clark', 22, False], ['Lee', 33, False]]\n",
      "# Modify the age of one of the guys in guys.\n",
      "guy_1 =  ['Gil', 28, False] \n",
      " guy_2 =  ['Steve', 31, True] \n",
      " guy_3 =  ['Clark', 26, False] \n",
      " guy_4 =  ['Lee', 33, False]\n",
      "guys =  [['Gil', 28, False], ['Steve', 31, True], ['Clark', 26, False], ['Lee', 33, False]]\n",
      "# Remove one of the elements of guys with two different methods:\n",
      " # using pop()\n",
      "guy_1 =  ['Gil', 28, False] \n",
      " guy_2 =  ['Steve', 31, True] \n",
      " guy_3 =  ['Clark', 26, False] \n",
      " guy_4 =  ['Lee', 33, False]\n",
      "guys =  [['Steve', 31, True], ['Clark', 26, False], ['Lee', 33, False]]\n",
      "# using remove()\n",
      "guy_1 =  ['Gil', 28, False] \n",
      " guy_2 =  ['Steve', 31, True] \n",
      " guy_3 =  ['Clark', 26, False] \n",
      " guy_4 =  ['Lee', 33, False]\n",
      "guys =  [['Steve', 31, True], ['Clark', 26, False]]\n"
     ]
    }
   ],
   "source": [
    "print('# create 3 lists, each representing a guy\\n',\n",
    "      '# with the following data on each list\\n',\n",
    "      '# guy# = [name(str), age(int), married(Boolean)]')\n",
    "guy_1 = ['Gil', 28, False]\n",
    "guy_2 = ['Steve', 39, True]\n",
    "guy_3 = ['Clark', 22, False]\n",
    "print('guy_1 = ', guy_1, '\\n', 'guy_2 = ', guy_2, '\\n', 'guy_3 = ', guy_3)\n",
    "\n",
    "print('# Modify the age of one of the guys')\n",
    "guy_2[1] = 31\n",
    "print('guy_1 = ', guy_1, '\\n', 'guy_2 = ', guy_2, '\\n', 'guy_3 = ', guy_3)\n",
    "\n",
    "print('# create a list called guys with the three lists as its elements')\n",
    "guys = [guy_1, guy_2, guy_3]\n",
    "print('guys = ', guys)\n",
    "\n",
    "print('# Create a list for another \"guy\" and append it to guys.')\n",
    "guy_4 = ['Lee', 33, False]\n",
    "guys.append(guy_4)\n",
    "print('guy_1 = ', guy_1, '\\n', 'guy_2 = ', guy_2, '\\n', 'guy_3 = ', guy_3, '\\n', 'guy_4 = ', guy_4)\n",
    "print('guys = ', guys)\n",
    "\n",
    "print('# Modify the age of one of the guys in guys.')\n",
    "guys[2][1] = 26\n",
    "print('guy_1 = ', guy_1, '\\n', 'guy_2 = ', guy_2, '\\n', 'guy_3 = ', guy_3, '\\n', 'guy_4 = ', guy_4)\n",
    "print('guys = ', guys)\n",
    "\n",
    "print('# Remove one of the elements of guys with two different methods:\\n',\n",
    "      '# using pop()')\n",
    "guys.pop(0)\n",
    "print('guy_1 = ', guy_1, '\\n', 'guy_2 = ', guy_2, '\\n', 'guy_3 = ', guy_3, '\\n', 'guy_4 = ', guy_4)\n",
    "print('guys = ', guys)\n",
    "\n",
    "print('# using remove()')\n",
    "guys.remove(guy_4)\n",
    "print('guy_1 = ', guy_1, '\\n', 'guy_2 = ', guy_2, '\\n', 'guy_3 = ', guy_3, '\\n', 'guy_4 = ', guy_4)\n",
    "print('guys = ', guys)"
   ]
  },
  {
   "cell_type": "markdown",
   "metadata": {},
   "source": [
    "# Exercise 3\n",
    "Write a sentence (string) and assign it to a variable called sentence.\n",
    "Print your sentence, so that every word is printed in a new line.\n",
    "Count how many times the letter ‘m’ appears in sentence in two differnt ways:\n",
    "by using the string method count().\n",
    "without using the string method count()."
   ]
  },
  {
   "cell_type": "code",
   "execution_count": 32,
   "metadata": {},
   "outputs": [
    {
     "name": "stdout",
     "output_type": "stream",
     "text": [
      "# Write a sentence (string) and assign it to a variable called sentence.\n",
      "The quick brown fox jumps over the lazy dog\n",
      "# Print your sentence, so that every word is printed in a new line.\n",
      "The\n",
      "quick\n",
      "brown\n",
      "fox\n",
      "jumps\n",
      "over\n",
      "the\n",
      "lazy\n",
      "dog\n",
      "# Count how many times the letter ‘m’ appears in sentence in two differnt ways:\n",
      " # by using the string method count().\n",
      "The letter  m appears 1  time(s) in the sentence  \" The quick brown fox jumps over the lazy dog \"\n",
      "# without using the string method count().\n",
      "The letter  m appears 1  time(s) in the sentence  \" The quick brown fox jumps over the lazy dog \"\n"
     ]
    }
   ],
   "source": [
    "print('# Write a sentence (string) and assign it to a variable called sentence.')\n",
    "sentence = 'The quick brown fox jumps over the lazy dog'\n",
    "print(sentence)\n",
    "\n",
    "print('# Print your sentence, so that every word is printed in a new line.')\n",
    "sentence_split = sentence.split()\n",
    "for i in sentence_split:\n",
    "    print(i)\n",
    "\n",
    "print('# Count how many times the letter ‘m’ appears in sentence in two differnt ways:\\n',\n",
    "      '# by using the string method count().')\n",
    "count = 'm'\n",
    "frequency_of = sentence.count(count)\n",
    "print('{} {} {} {} {} {} {} {}' .format('The letter ', count, 'appears', frequency_of,\n",
    "                            ' time(s) in the sentence ', '\"', sentence, '\"'))\n",
    "\n",
    "print('# without using the string method count().')\n",
    "count_wo_count_method = len(sentence.split(count))-1\n",
    "print('{} {} {} {} {} {} {} {}' .format('The letter ', count, 'appears', count_wo_count_method,\n",
    "                            ' time(s) in the sentence ', '\"', sentence, '\"'))\n"
   ]
  },
  {
   "cell_type": "markdown",
   "metadata": {
    "collapsed": true
   },
   "source": [
    "# Exercise 4\n",
    "Create a dictionary with 3 items of the following form:\n",
    "key – a letter\n",
    "value – a list of words starting with the key letter\n",
    "Use the mutability of the dictionary to add a new word to each of the dictionary items without recreating its values.\n",
    "Add a new item to the dictionary.\n",
    "Remove an item from the dictionary.\n",
    "Create a list, whose elements are the lists of words from the dictionary."
   ]
  },
  {
   "cell_type": "code",
   "execution_count": 7,
   "metadata": {},
   "outputs": [
    {
     "name": "stdout",
     "output_type": "stream",
     "text": [
      "{'b': ['barb', 'bliss', 'bag'], 'h': ['hush', 'huge', 'hair'], 'd': ['door', 'deaf', 'dill']}\n",
      "{'b': ['barb', 'bliss', 'bag', 'bill'], 'h': ['hush', 'huge', 'hair'], 'd': ['door', 'deaf', 'dill']}\n",
      "{'b': ['barb', 'bliss', 'bag', 'bill'], 'h': ['hush', 'huge', 'hair'], 'd': ['door', 'deaf', 'dill'], 'c': ['check', 'challenge', 'choose']}\n",
      "{'b': ['barb', 'bliss', 'bag', 'bill'], 'h': ['hush', 'huge', 'hair'], 'c': ['check', 'challenge', 'choose']}\n",
      "[['barb', 'bliss', 'bag', 'bill'], ['hush', 'huge', 'hair'], ['check', 'challenge', 'choose']]\n"
     ]
    }
   ],
   "source": [
    "# Create a dictionary with 3 items of the following form:\n",
    "# key – a letter\n",
    "# value – a list of words starting with the key letter\n",
    "dict = {'b': ['barb', 'bliss', 'bag'],\n",
    "       'h': ['hush', 'huge', 'hair'],\n",
    "       'd': ['door', 'deaf', 'dill']}\n",
    "print(dict)\n",
    "\n",
    "# add a new word to each of the dictionary items without recreating its values\n",
    "dict['b'].append('bill')\n",
    "print(dict)\n",
    "\n",
    "# Add a new item to the dictionary.\n",
    "dict['c'] = ['check', 'challenge', 'choose']\n",
    "print(dict)\n",
    "\n",
    "# Remove an item from the dictionary.\n",
    "dict.pop('d')\n",
    "print(dict)\n",
    "\n",
    "# Create a list, whose elements are the lists of words from the dictionary.\n",
    "my_list=list(dict.values())\n",
    "print(my_list)"
   ]
  },
  {
   "cell_type": "markdown",
   "metadata": {},
   "source": [
    "# Exercise 5\n",
    "In this exercise we will construct a complex dictionary step-by-step. Before you start, choose two continents, and from each continent choose two countries.\n",
    "\n",
    "For each of the four countries create a list of cities from that country.\n",
    "For each of the two continents create a dictionary with two items of the following form:\n",
    "key – country name\n",
    "value – the list of cities from that country\n",
    "Create a new dictionary called world_dict with two items of the following form:\n",
    "key – continent name\n",
    "value – the dictionary of the key continent"
   ]
  },
  {
   "cell_type": "code",
   "execution_count": 4,
   "metadata": {},
   "outputs": [
    {
     "name": "stdout",
     "output_type": "stream",
     "text": [
      "{'France': ['Paris', 'Lyon', 'Nice'], 'Itlay': ['Rome', 'Florence', 'Milan']}\n",
      "{'Chile': ['Pica', 'Calama'], 'Peru': ['Lima', 'Cusco']}\n",
      "{'Europe': {'France': ['Paris', 'Lyon', 'Nice'], 'Itlay': ['Rome', 'Florence', 'Milan']}, 'America': {'Chile': ['Pica', 'Calama'], 'Peru': ['Lima', 'Cusco']}}\n"
     ]
    }
   ],
   "source": [
    "# choose two continents, and from each continent choose two countries\n",
    "continent_1 = 'Europe'\n",
    "country_1_1 = 'France'\n",
    "country_1_2 = 'Itlay'\n",
    "continent_2 = 'America'\n",
    "country_2_1 = 'Chile'\n",
    "country_2_2 = 'Peru'\n",
    "\n",
    "# For each of the four countries create a list of cities from that country\n",
    "cities_in_France = ['Paris', 'Lyon', 'Nice']\n",
    "cities_in_Italy = ['Rome', 'Florence', 'Milan']\n",
    "cities_in_Chile = ['Pica', 'Calama']\n",
    "cities_in_Peru = ['Lima', 'Cusco']\n",
    "\n",
    "# For each of the two continents create a dictionary with two items\n",
    "# of the following form:\n",
    "# key – country name\n",
    "# value – the list of cities from that country \n",
    "Europe_dict = {country_1_1: cities_in_France, country_1_2: cities_in_Italy}\n",
    "America_dict = {country_2_1: cities_in_Chile, country_2_2: cities_in_Peru}\n",
    "print(Europe_dict)\n",
    "print(America_dict)\n",
    "\n",
    "# Create a new dictionary called world_dict with two items\n",
    "# of the following form:\n",
    "# key – continent name\n",
    "# value – the dictionary of the key continent\n",
    "world_dict = {continent_1: Europe_dict,\n",
    "             continent_2: America_dict}\n",
    "print(world_dict)"
   ]
  },
  {
   "cell_type": "markdown",
   "metadata": {},
   "source": [
    "# Exercise 6\n",
    "Create two strings and write a code that prints the number of their common letters (excluding duplicates)"
   ]
  },
  {
   "cell_type": "code",
   "execution_count": 15,
   "metadata": {},
   "outputs": [
    {
     "name": "stdout",
     "output_type": "stream",
     "text": [
      "Type the first sentence: how high is the pie in the sky\n",
      "Type the second sentence: how low can you go\n",
      "Commmon letters of the two sentences: {'n', 'y', 'h', 'g', 'w', 'o', ' '}\n",
      "number of common letters:  7\n"
     ]
    }
   ],
   "source": [
    "sentence_1 = set(input('Type the first sentence: '))\n",
    "sentence_2 = set(input('Type the second sentence: '))\n",
    "common_letters = sentence_1 & sentence_2\n",
    "print('Commmon letters of the two sentences:', common_letters)\n",
    "print('number of common letters: ', len(common_letters))"
   ]
  },
  {
   "cell_type": "markdown",
   "metadata": {},
   "source": [
    "# Exercise 7\n",
    "You are given three lists, recording the visitors of the museum on Sunday, Monday and Tuesday. Note that a visitor might appear more than once even on thhe same day. Answer the following questions:\n",
    "\n",
    "Create sets for the unique visitors for each day and for the entire three days (4 sets in total).\n",
    "Is there a day, that every visitor of that day, had also visited on another day?\n",
    "Which visitors visited the museum on more than a single day? Which visitors visited every day??\n",
    "Which visitors visited the museum only on Tuesday?\n",
    "Which visitors visited exactly on one of the days Sunday and Monday?"
   ]
  },
  {
   "cell_type": "code",
   "execution_count": 13,
   "metadata": {},
   "outputs": [],
   "source": [
    "# You are given three lists, recording the visitors of the\n",
    "# museum on Sunday, Monday and Tuesday.\n",
    "# Note that a visitor might appear more than once even on the same day\n",
    "Sunday_visitors = ['George Clooney', 'Audrey Hepburn', 'Wolfgung Mozart', 'Shlomo Artsie', 'Audrey Hepburn']\n",
    "Monday_visitors = ['Michael Jordan', 'Shlomo Artsie', 'Michel Pfifer', 'Shlomo Artsie']\n",
    "Tuesday_visitors = ['Shlomo Artsi', 'Sammy Davis', 'Frank Sinatra', 'James Stewart']\n",
    "\n",
    "# Create sets for the unique visitors for each day and for the entire three days (4 sets in total)\n",
    "Sunday_unique_visitors = set(Sunday_visitors)\n",
    "Monday_unique_visitors = set(Monday_visitors)\n",
    "Tuesday_unique_visitors = set(Tuesday_visitors)\n",
    "all_days_unique_visitors = set((Sunday_unique_visitors ^ Monday_unique_visitors) ^ Tuesday_unique_visitors)\n",
    "\n",
    "# Is there a day, that every visitor of that day, had also visited on another day?\n"
   ]
  },
  {
   "cell_type": "code",
   "execution_count": null,
   "metadata": {
    "collapsed": true
   },
   "outputs": [],
   "source": []
  }
 ],
 "metadata": {
  "kernelspec": {
   "display_name": "Python 3",
   "language": "python",
   "name": "python3"
  },
  "language_info": {
   "codemirror_mode": {
    "name": "ipython",
    "version": 3
   },
   "file_extension": ".py",
   "mimetype": "text/x-python",
   "name": "python",
   "nbconvert_exporter": "python",
   "pygments_lexer": "ipython3",
   "version": "3.6.3"
  }
 },
 "nbformat": 4,
 "nbformat_minor": 2
}
