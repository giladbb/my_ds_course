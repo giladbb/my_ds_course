{
 "cells": [
  {
   "cell_type": "markdown",
   "metadata": {},
   "source": [
    "### Exercise 1\n",
    "Assign your height in meters to a variable called height and your weight in kilograms to a variable called weight.\n",
    "Calculate your BMI and assign the value to a variable called BMI. (BMI=wh2BMI=wh2)\n",
    "Print the sentence \"My height is ___ meters, my weight is ___ Kgs, and my BMI is ___.”.\n",
    "Print the sentence, so that each part of it will be in a new line."
   ]
  },
  {
   "cell_type": "code",
   "execution_count": 5,
   "metadata": {},
   "outputs": [
    {
     "name": "stdout",
     "output_type": "stream",
     "text": [
      "What is your height in meters? 1.79\n",
      "What is your weight in kilograms? 84\n",
      "My height is 1.79 meters, my weight is 84.0 Kgs, and my BMI is 26\n"
     ]
    }
   ],
   "source": [
    "height_in_meters = float(input('What is your height in meters? ')) # Ask user to enter own height in meter units\n",
    "weight_in_kg = float(input('What is your weight in kilograms? ')) # Ask user to enter own weight in kilograms\n",
    "\n",
    "BMI = weight_in_kg/(height_in_meters**2) # calculate BMI\n",
    "\n",
    "print('My height is '\n",
    "      + str(height_in_meters) \n",
    "      + ' meters, my weight is ' \n",
    "      + str(weight_in_kg) \n",
    "      + ' Kgs, and my BMI is ' \n",
    "      + str(int(BMI)))"
   ]
  },
  {
   "cell_type": "markdown",
   "metadata": {
    "collapsed": true
   },
   "source": [
    "Exercise 2 Assign your first name and your last name to the variables first_name and last_name, respectively. How many letters does your full name have? Create your full name by concatenating first_name and first_name with a space in the middle, and assign the result to a variable called full_name. Use the string method replace() to change all the vowels in your full name from lower case to upper case. (Vowels are the letters 'a', 'e', 'i', 'o' & 'u')\n",
    "\n",
    "Note that you are not allowed to use the for syntax at the moment."
   ]
  },
  {
   "cell_type": "code",
   "execution_count": 1,
   "metadata": {},
   "outputs": [
    {
     "name": "stdout",
     "output_type": "stream",
     "text": [
      "What is your first name? gilad\n",
      "What is your last name? benbassat\n",
      "Your full name has 14 letters\n",
      "gilad benbassat\n",
      "gIlAd bEnbAssAt\n"
     ]
    }
   ],
   "source": [
    "first_name = input('What is your first name? ')\n",
    "last_name = input('What is your last name? ')\n",
    "\n",
    "print('Your full name has ' + str(len(first_name+last_name)) + ' letters')\n",
    "\n",
    "full_name = first_name + ' ' + last_name\n",
    "print(full_name)\n",
    "converted_full_name = full_name\n",
    "VOWELS = ['a','e','i','o','u']\n",
    "for V in VOWELS:\n",
    "    converted_full_name = converted_full_name.replace(V,V.upper())\n",
    "        \n",
    "print(converted_full_name)"
   ]
  },
  {
   "cell_type": "code",
   "execution_count": 2,
   "metadata": {},
   "outputs": [
    {
     "name": "stdout",
     "output_type": "stream",
     "text": [
      "What is your first name? gilad\n",
      "What is your last name? benbassat\n",
      "Your full name has 14 letters\n",
      "gilad benbassat\n",
      "gIlAd bEnbAssAt\n"
     ]
    }
   ],
   "source": [
    "first_name = input('What is your first name? ')\n",
    "last_name = input('What is your last name? ')\n",
    "\n",
    "print('Your full name has ' + str(len(first_name+last_name)) + ' letters')\n",
    "\n",
    "full_name = first_name + ' ' + last_name\n",
    "print(full_name)\n",
    "converted_full_name = full_name\n",
    "VOWELS = ['a','e','i','o','u']\n",
    "converted_full_name = converted_full_name.replace('a','A')\n",
    "converted_full_name = converted_full_name.replace('e','E')\n",
    "converted_full_name = converted_full_name.replace('i','I')\n",
    "converted_full_name = converted_full_name.replace('o','O')\n",
    "converted_full_name = converted_full_name.replace('u','U')\n",
    "        \n",
    "print(converted_full_name)"
   ]
  },
  {
   "cell_type": "markdown",
   "metadata": {},
   "source": [
    "Exercise 3\n",
    "Define proper variables with the following data for yourself and for one of your imaginary friends: gender (string), age (int), city (string) and marital status (Boolean). Then create the following Boolean variables:\n",
    "\n",
    "same_city – do both of you live in the same city?\n",
    "is_older – is your friend older than you?\n",
    "diff_gender – are you from different genders?\n",
    "both_married – are you both married?"
   ]
  },
  {
   "cell_type": "code",
   "execution_count": 16,
   "metadata": {},
   "outputs": [
    {
     "name": "stdout",
     "output_type": "stream",
     "text": [
      "They are from the same city?  False\n",
      "Jane is older\n",
      "different gender\n",
      "both married\n"
     ]
    }
   ],
   "source": [
    "JOHN_GENDER = 'male'\n",
    "JANE_GENDER = 'female'\n",
    "JOHN_AGE = 23\n",
    "JANE_AGE = 26\n",
    "JOHN_CITY = 'Holon'\n",
    "JANE_CITY = 'Yavne'\n",
    "JOHN_MARITAL = True\n",
    "JANE_MARITAL = True\n",
    "\n",
    "same_city = (JOHN_CITY == JANE_CITY)\n",
    "is_older = 'John is older' if JOHN_AGE > JANE_AGE else 'Jane is older'\n",
    "diff_gender = 'same gender' if JOHN_GENDER == JANE_GENDER else 'different gender'\n",
    "both_married = 'both married' if JOHN_MARITAL == JANE_MARITAL else 'not both married'\n",
    "\n",
    "print('They are from the same city? ', same_city)\n",
    "print(is_older)\n",
    "print(diff_gender)\n",
    "print(both_married)"
   ]
  },
  {
   "cell_type": "code",
   "execution_count": null,
   "metadata": {
    "collapsed": true
   },
   "outputs": [],
   "source": []
  }
 ],
 "metadata": {
  "kernelspec": {
   "display_name": "Python 3",
   "language": "python",
   "name": "python3"
  },
  "language_info": {
   "codemirror_mode": {
    "name": "ipython",
    "version": 3
   },
   "file_extension": ".py",
   "mimetype": "text/x-python",
   "name": "python",
   "nbconvert_exporter": "python",
   "pygments_lexer": "ipython3",
   "version": "3.6.3"
  }
 },
 "nbformat": 4,
 "nbformat_minor": 2
}
